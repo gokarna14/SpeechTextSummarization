{
 "cells": [
  {
   "cell_type": "markdown",
   "id": "caa73103",
   "metadata": {},
   "source": [
    "# Text summarization using NLP"
   ]
  },
  {
   "cell_type": "code",
   "execution_count": 1,
   "id": "56cf7f21",
   "metadata": {},
   "outputs": [],
   "source": [
    "text = \"\"\"\n",
    "The word ‘Women Empowerment’ itself implies that women are not powerful enough - they need to be empowered. This painful truth has been in existence for a long long time. It is in recent years that noticeable work started beginning to lift women out of the abyss of insignificance and powerlessness. The patriarchal society suppressed women’s freedom across the world. Women were not allowed to vote or even put forward any opinion. Women were confined to their homes. As time progressed, they realised that their life meant much more than just serving in the household. As more and more women started crossing the man-made barriers, the world began to witness the rise of women. Unlike men, women never try to stifle the voice of their opposite gender. They hold the hands of all the downtrodden people - men and women both - and they pull them out of misfortune as they try to improve their lives.\n",
    "\n",
    " \n",
    "The history of women empowerment does not start from an exact date, It is a cumulative process. However, there are certain movements, protests, revolutions that furthered the cause of women empowerment much more speedily.\"\"\"\n",
    "\n",
    " \n",
    "\n"
   ]
  },
  {
   "cell_type": "code",
   "execution_count": 2,
   "id": "b231fab8",
   "metadata": {},
   "outputs": [
    {
     "name": "stderr",
     "output_type": "stream",
     "text": [
      "D:\\progrmfilec\\anaconda\\lib\\site-packages\\scipy\\__init__.py:146: UserWarning: A NumPy version >=1.16.5 and <1.23.0 is required for this version of SciPy (detected version 1.23.0\n",
      "  warnings.warn(f\"A NumPy version >={np_minversion} and <{np_maxversion}\"\n"
     ]
    }
   ],
   "source": [
    "from wordcloud import WordCloud\n",
    "import matplotlib.pyplot as plt\n",
    "import pandas as pd\n",
    "import spacy\n",
    "from spacy.lang.en.stop_words import STOP_WORDS\n",
    "from string import punctuation"
   ]
  },
  {
   "cell_type": "code",
   "execution_count": 3,
   "id": "2d69c381",
   "metadata": {},
   "outputs": [],
   "source": [
    "stopwords = list(STOP_WORDS)\n"
   ]
  },
  {
   "cell_type": "code",
   "execution_count": 4,
   "id": "0f9e24a0",
   "metadata": {},
   "outputs": [],
   "source": [
    "nlp = spacy.load('en_core_web_sm')"
   ]
  },
  {
   "cell_type": "code",
   "execution_count": 5,
   "id": "47ad9143",
   "metadata": {},
   "outputs": [],
   "source": [
    "doc = nlp(text)"
   ]
  },
  {
   "cell_type": "code",
   "execution_count": 6,
   "id": "2a76bba5",
   "metadata": {},
   "outputs": [
    {
     "data": {
      "text/plain": [
       "\n",
       "The word ‘Women Empowerment’ itself implies that women are not powerful enough - they need to be empowered. This painful truth has been in existence for a long long time. It is in recent years that noticeable work started beginning to lift women out of the abyss of insignificance and powerlessness. The patriarchal society suppressed women’s freedom across the world. Women were not allowed to vote or even put forward any opinion. Women were confined to their homes. As time progressed, they realised that their life meant much more than just serving in the household. As more and more women started crossing the man-made barriers, the world began to witness the rise of women. Unlike men, women never try to stifle the voice of their opposite gender. They hold the hands of all the downtrodden people - men and women both - and they pull them out of misfortune as they try to improve their lives.\n",
       "\n",
       " \n",
       "The history of women empowerment does not start from an exact date, It is a cumulative process. However, there are certain movements, protests, revolutions that furthered the cause of women empowerment much more speedily."
      ]
     },
     "execution_count": 6,
     "metadata": {},
     "output_type": "execute_result"
    }
   ],
   "source": [
    "doc"
   ]
  },
  {
   "cell_type": "code",
   "execution_count": 7,
   "id": "5f349fcb",
   "metadata": {},
   "outputs": [
    {
     "name": "stdout",
     "output_type": "stream",
     "text": [
      "['\\n', 'The', 'word', '‘', 'Women', 'Empowerment', '’', 'itself', 'implies', 'that', 'women', 'are', 'not', 'powerful', 'enough', '-', 'they', 'need', 'to', 'be', 'empowered', '.', 'This', 'painful', 'truth', 'has', 'been', 'in', 'existence', 'for', 'a', 'long', 'long', 'time', '.', 'It', 'is', 'in', 'recent', 'years', 'that', 'noticeable', 'work', 'started', 'beginning', 'to', 'lift', 'women', 'out', 'of', 'the', 'abyss', 'of', 'insignificance', 'and', 'powerlessness', '.', 'The', 'patriarchal', 'society', 'suppressed', 'women', '’s', 'freedom', 'across', 'the', 'world', '.', 'Women', 'were', 'not', 'allowed', 'to', 'vote', 'or', 'even', 'put', 'forward', 'any', 'opinion', '.', 'Women', 'were', 'confined', 'to', 'their', 'homes', '.', 'As', 'time', 'progressed', ',', 'they', 'realised', 'that', 'their', 'life', 'meant', 'much', 'more', 'than', 'just', 'serving', 'in', 'the', 'household', '.', 'As', 'more', 'and', 'more', 'women', 'started', 'crossing', 'the', 'man', '-', 'made', 'barriers', ',', 'the', 'world', 'began', 'to', 'witness', 'the', 'rise', 'of', 'women', '.', 'Unlike', 'men', ',', 'women', 'never', 'try', 'to', 'stifle', 'the', 'voice', 'of', 'their', 'opposite', 'gender', '.', 'They', 'hold', 'the', 'hands', 'of', 'all', 'the', 'downtrodden', 'people', '-', 'men', 'and', 'women', 'both', '-', 'and', 'they', 'pull', 'them', 'out', 'of', 'misfortune', 'as', 'they', 'try', 'to', 'improve', 'their', 'lives', '.', '\\n\\n \\n', 'The', 'history', 'of', 'women', 'empowerment', 'does', 'not', 'start', 'from', 'an', 'exact', 'date', ',', 'It', 'is', 'a', 'cumulative', 'process', '.', 'However', ',', 'there', 'are', 'certain', 'movements', ',', 'protests', ',', 'revolutions', 'that', 'furthered', 'the', 'cause', 'of', 'women', 'empowerment', 'much', 'more', 'speedily', '.']\n"
     ]
    }
   ],
   "source": [
    "tokens = [token.text for token in doc]\n",
    "print(tokens)"
   ]
  },
  {
   "cell_type": "code",
   "execution_count": 8,
   "id": "b2fcca67",
   "metadata": {},
   "outputs": [
    {
     "data": {
      "text/plain": [
       "'!\"#$%&\\'()*+,-./:;<=>?@[\\\\]^_`{|}~\\n'"
      ]
     },
     "execution_count": 8,
     "metadata": {},
     "output_type": "execute_result"
    }
   ],
   "source": [
    "punctuation = punctuation + '\\n'\n",
    "punctuation"
   ]
  },
  {
   "cell_type": "code",
   "execution_count": 9,
   "id": "1e24cd56",
   "metadata": {},
   "outputs": [
    {
     "data": {
      "text/plain": [
       "216"
      ]
     },
     "execution_count": 9,
     "metadata": {},
     "output_type": "execute_result"
    }
   ],
   "source": [
    "len(tokens)"
   ]
  },
  {
   "cell_type": "raw",
   "id": "db280ed9",
   "metadata": {},
   "source": [
    "comment_words = ''\n",
    "for i in range(len(tokens)):\n",
    "    tokens[i] = tokens[i].lower()\n",
    "comment_words += \" \".join(tokens)+\" \"\n",
    "wordcloud = WordCloud(width = 800, height = 800,\n",
    "                background_color ='white',\n",
    "                stopwords = stopwords,\n",
    "                min_font_size = 10).generate(comment_words)\n",
    "# plot the WordCloud image                      \n",
    "plt.figure(figsize = (8, 8), facecolor = None)\n",
    "plt.imshow(wordcloud)\n",
    "plt.axis(\"off\")\n",
    "plt.tight_layout(pad = 0)\n",
    " \n",
    "plt.show()"
   ]
  },
  {
   "cell_type": "code",
   "execution_count": 10,
   "id": "5e2a1ea5",
   "metadata": {},
   "outputs": [],
   "source": [
    "word_frequencies = {}\n",
    "for word in doc:\n",
    "    if word.text.lower() not in stopwords:\n",
    "        if word.text.lower() not in punctuation:\n",
    "            if word.text not in word_frequencies.keys():\n",
    "                word_frequencies[word.text] = 1\n",
    "            else:\n",
    "                word_frequencies[word.text] += 1"
   ]
  },
  {
   "cell_type": "code",
   "execution_count": 11,
   "id": "5d1a60d6",
   "metadata": {},
   "outputs": [
    {
     "name": "stdout",
     "output_type": "stream",
     "text": [
      "{'word': 1, '‘': 1, 'Women': 3, 'Empowerment': 1, '’': 1, 'implies': 1, 'women': 9, 'powerful': 1, 'need': 1, 'empowered': 1, 'painful': 1, 'truth': 1, 'existence': 1, 'long': 2, 'time': 2, 'recent': 1, 'years': 1, 'noticeable': 1, 'work': 1, 'started': 2, 'beginning': 1, 'lift': 1, 'abyss': 1, 'insignificance': 1, 'powerlessness': 1, 'patriarchal': 1, 'society': 1, 'suppressed': 1, 'freedom': 1, 'world': 2, 'allowed': 1, 'vote': 1, 'forward': 1, 'opinion': 1, 'confined': 1, 'homes': 1, 'progressed': 1, 'realised': 1, 'life': 1, 'meant': 1, 'serving': 1, 'household': 1, 'crossing': 1, 'man': 1, 'barriers': 1, 'began': 1, 'witness': 1, 'rise': 1, 'Unlike': 1, 'men': 2, 'try': 2, 'stifle': 1, 'voice': 1, 'opposite': 1, 'gender': 1, 'hold': 1, 'hands': 1, 'downtrodden': 1, 'people': 1, 'pull': 1, 'misfortune': 1, 'improve': 1, 'lives': 1, '\\n\\n \\n': 1, 'history': 1, 'empowerment': 2, 'start': 1, 'exact': 1, 'date': 1, 'cumulative': 1, 'process': 1, 'certain': 1, 'movements': 1, 'protests': 1, 'revolutions': 1, 'furthered': 1, 'cause': 1, 'speedily': 1}\n"
     ]
    }
   ],
   "source": [
    "print(word_frequencies)"
   ]
  },
  {
   "cell_type": "code",
   "execution_count": 12,
   "id": "862bf072",
   "metadata": {},
   "outputs": [
    {
     "data": {
      "text/plain": [
       "9"
      ]
     },
     "execution_count": 12,
     "metadata": {},
     "output_type": "execute_result"
    }
   ],
   "source": [
    "max_frequency = max(word_frequencies.values())\n",
    "max_frequency\n"
   ]
  },
  {
   "cell_type": "code",
   "execution_count": 13,
   "id": "d68d9f76",
   "metadata": {},
   "outputs": [],
   "source": [
    "for word in word_frequencies.keys():\n",
    "    word_frequencies[word] = word_frequencies[word]/max_frequency"
   ]
  },
  {
   "cell_type": "code",
   "execution_count": 14,
   "id": "aca499b9",
   "metadata": {},
   "outputs": [
    {
     "name": "stdout",
     "output_type": "stream",
     "text": [
      "{'word': 0.1111111111111111, '‘': 0.1111111111111111, 'Women': 0.3333333333333333, 'Empowerment': 0.1111111111111111, '’': 0.1111111111111111, 'implies': 0.1111111111111111, 'women': 1.0, 'powerful': 0.1111111111111111, 'need': 0.1111111111111111, 'empowered': 0.1111111111111111, 'painful': 0.1111111111111111, 'truth': 0.1111111111111111, 'existence': 0.1111111111111111, 'long': 0.2222222222222222, 'time': 0.2222222222222222, 'recent': 0.1111111111111111, 'years': 0.1111111111111111, 'noticeable': 0.1111111111111111, 'work': 0.1111111111111111, 'started': 0.2222222222222222, 'beginning': 0.1111111111111111, 'lift': 0.1111111111111111, 'abyss': 0.1111111111111111, 'insignificance': 0.1111111111111111, 'powerlessness': 0.1111111111111111, 'patriarchal': 0.1111111111111111, 'society': 0.1111111111111111, 'suppressed': 0.1111111111111111, 'freedom': 0.1111111111111111, 'world': 0.2222222222222222, 'allowed': 0.1111111111111111, 'vote': 0.1111111111111111, 'forward': 0.1111111111111111, 'opinion': 0.1111111111111111, 'confined': 0.1111111111111111, 'homes': 0.1111111111111111, 'progressed': 0.1111111111111111, 'realised': 0.1111111111111111, 'life': 0.1111111111111111, 'meant': 0.1111111111111111, 'serving': 0.1111111111111111, 'household': 0.1111111111111111, 'crossing': 0.1111111111111111, 'man': 0.1111111111111111, 'barriers': 0.1111111111111111, 'began': 0.1111111111111111, 'witness': 0.1111111111111111, 'rise': 0.1111111111111111, 'Unlike': 0.1111111111111111, 'men': 0.2222222222222222, 'try': 0.2222222222222222, 'stifle': 0.1111111111111111, 'voice': 0.1111111111111111, 'opposite': 0.1111111111111111, 'gender': 0.1111111111111111, 'hold': 0.1111111111111111, 'hands': 0.1111111111111111, 'downtrodden': 0.1111111111111111, 'people': 0.1111111111111111, 'pull': 0.1111111111111111, 'misfortune': 0.1111111111111111, 'improve': 0.1111111111111111, 'lives': 0.1111111111111111, '\\n\\n \\n': 0.1111111111111111, 'history': 0.1111111111111111, 'empowerment': 0.2222222222222222, 'start': 0.1111111111111111, 'exact': 0.1111111111111111, 'date': 0.1111111111111111, 'cumulative': 0.1111111111111111, 'process': 0.1111111111111111, 'certain': 0.1111111111111111, 'movements': 0.1111111111111111, 'protests': 0.1111111111111111, 'revolutions': 0.1111111111111111, 'furthered': 0.1111111111111111, 'cause': 0.1111111111111111, 'speedily': 0.1111111111111111}\n"
     ]
    }
   ],
   "source": [
    "print(word_frequencies)"
   ]
  },
  {
   "cell_type": "code",
   "execution_count": 15,
   "id": "c96a7d0d",
   "metadata": {},
   "outputs": [
    {
     "name": "stdout",
     "output_type": "stream",
     "text": [
      "[\n",
      "The word ‘Women Empowerment’ itself implies that women are not powerful enough - they need to be empowered., This painful truth has been in existence for a long long time., It is in recent years that noticeable work started beginning to lift women out of the abyss of insignificance and powerlessness., The patriarchal society suppressed women’s freedom across the world., Women were not allowed to vote or even put forward any opinion., Women were confined to their homes., As time progressed, they realised that their life meant much more than just serving in the household., As more and more women started crossing the man-made barriers, the world began to witness the rise of women., Unlike men, women never try to stifle the voice of their opposite gender., They hold the hands of all the downtrodden people - men and women both - and they pull them out of misfortune as they try to improve their lives., \n",
      "\n",
      " \n",
      "The history of women empowerment does not start from an exact date, It is a cumulative process., However, there are certain movements, protests, revolutions that furthered the cause of women empowerment much more speedily.]\n"
     ]
    }
   ],
   "source": [
    "sentence_tokens = [sent for sent in doc.sents]\n",
    "print(sentence_tokens)"
   ]
  },
  {
   "cell_type": "code",
   "execution_count": 16,
   "id": "58aa93e2",
   "metadata": {},
   "outputs": [],
   "source": [
    "sentence_score = {}\n",
    "for sent in sentence_tokens:\n",
    "    for word in sent:\n",
    "        if word.text.lower() in word_frequencies.keys():\n",
    "            if sent not in sentence_score.keys():\n",
    "                sentence_score[sent] = word_frequencies[word.text.lower()]\n",
    "            else:\n",
    "                sentence_score[sent] += word_frequencies[word.text.lower()]"
   ]
  },
  {
   "cell_type": "code",
   "execution_count": 17,
   "id": "92b7f2cf",
   "metadata": {},
   "outputs": [
    {
     "data": {
      "text/plain": [
       "{\n",
       " The word ‘Women Empowerment’ itself implies that women are not powerful enough - they need to be empowered.: 3.0000000000000004,\n",
       " This painful truth has been in existence for a long long time.: 1.0,\n",
       " It is in recent years that noticeable work started beginning to lift women out of the abyss of insignificance and powerlessness.: 2.2222222222222223,\n",
       " The patriarchal society suppressed women’s freedom across the world.: 1.6666666666666665,\n",
       " Women were not allowed to vote or even put forward any opinion.: 1.4444444444444446,\n",
       " Women were confined to their homes.: 1.2222222222222223,\n",
       " As time progressed, they realised that their life meant much more than just serving in the household.: 0.8888888888888891,\n",
       " As more and more women started crossing the man-made barriers, the world began to witness the rise of women.: 3.1111111111111116,\n",
       " Unlike men, women never try to stifle the voice of their opposite gender.: 1.8888888888888893,\n",
       " They hold the hands of all the downtrodden people - men and women both - and they pull them out of misfortune as they try to improve their lives.: 2.3333333333333335,\n",
       " \n",
       " \n",
       "  \n",
       " The history of women empowerment does not start from an exact date, It is a cumulative process.: 2.0000000000000004,\n",
       " However, there are certain movements, protests, revolutions that furthered the cause of women empowerment much more speedily.: 2.0}"
      ]
     },
     "execution_count": 17,
     "metadata": {},
     "output_type": "execute_result"
    }
   ],
   "source": [
    "sentence_score"
   ]
  },
  {
   "cell_type": "code",
   "execution_count": 18,
   "id": "893c6326",
   "metadata": {},
   "outputs": [],
   "source": [
    "from heapq import nlargest"
   ]
  },
  {
   "cell_type": "code",
   "execution_count": 19,
   "id": "b34628d3",
   "metadata": {},
   "outputs": [
    {
     "data": {
      "text/plain": [
       "3"
      ]
     },
     "execution_count": 19,
     "metadata": {},
     "output_type": "execute_result"
    }
   ],
   "source": [
    "select_length = int(len(sentence_tokens)*0.3)\n",
    "select_length"
   ]
  },
  {
   "cell_type": "code",
   "execution_count": 20,
   "id": "f6a08848",
   "metadata": {},
   "outputs": [],
   "source": [
    "summary = nlargest(select_length, sentence_score, key = sentence_score.get)"
   ]
  },
  {
   "cell_type": "code",
   "execution_count": 21,
   "id": "740eba78",
   "metadata": {},
   "outputs": [
    {
     "data": {
      "text/plain": [
       "[As more and more women started crossing the man-made barriers, the world began to witness the rise of women.,\n",
       " \n",
       " The word ‘Women Empowerment’ itself implies that women are not powerful enough - they need to be empowered.,\n",
       " They hold the hands of all the downtrodden people - men and women both - and they pull them out of misfortune as they try to improve their lives.]"
      ]
     },
     "execution_count": 21,
     "metadata": {},
     "output_type": "execute_result"
    }
   ],
   "source": [
    "summary"
   ]
  },
  {
   "cell_type": "code",
   "execution_count": 22,
   "id": "54ef6240",
   "metadata": {},
   "outputs": [],
   "source": [
    "final_summary = [word.text for word in summary]"
   ]
  },
  {
   "cell_type": "code",
   "execution_count": 23,
   "id": "679379b9",
   "metadata": {},
   "outputs": [],
   "source": [
    "summaryf = '\\n'.join(final_summary).replace('\\n',' ')"
   ]
  },
  {
   "cell_type": "code",
   "execution_count": 24,
   "id": "30c28db7",
   "metadata": {},
   "outputs": [
    {
     "data": {
      "text/plain": [
       "'As more and more women started crossing the man-made barriers, the world began to witness the rise of women.  The word ‘Women Empowerment’ itself implies that women are not powerful enough - they need to be empowered. They hold the hands of all the downtrodden people - men and women both - and they pull them out of misfortune as they try to improve their lives.'"
      ]
     },
     "execution_count": 24,
     "metadata": {},
     "output_type": "execute_result"
    }
   ],
   "source": [
    "summaryf"
   ]
  },
  {
   "cell_type": "code",
   "execution_count": 25,
   "id": "07590ef1",
   "metadata": {},
   "outputs": [
    {
     "name": "stdout",
     "output_type": "stream",
     "text": [
      "As more and more women started crossing the man-made barriers, the world began to witness the rise of women.  The word ‘Women Empowerment’ itself implies that women are not powerful enough - they need to be empowered. They hold the hands of all the downtrodden people - men and women both - and they pull them out of misfortune as they try to improve their lives.\n"
     ]
    }
   ],
   "source": [
    "print(summaryf)"
   ]
  },
  {
   "cell_type": "code",
   "execution_count": null,
   "id": "661d0a5d",
   "metadata": {},
   "outputs": [],
   "source": []
  }
 ],
 "metadata": {
  "kernelspec": {
   "display_name": "Python 3 (ipykernel)",
   "language": "python",
   "name": "python3"
  },
  "language_info": {
   "codemirror_mode": {
    "name": "ipython",
    "version": 3
   },
   "file_extension": ".py",
   "mimetype": "text/x-python",
   "name": "python",
   "nbconvert_exporter": "python",
   "pygments_lexer": "ipython3",
   "version": "3.9.12"
  }
 },
 "nbformat": 4,
 "nbformat_minor": 5
}
